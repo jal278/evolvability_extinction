{
 "metadata": {
  "name": ""
 },
 "nbformat": 3,
 "nbformat_minor": 0,
 "worksheets": [
  {
   "cells": [
    {
     "cell_type": "heading",
     "level": 1,
     "metadata": {},
     "source": [
      "Evolvability in Abstract Niched Model"
     ]
    },
    {
     "cell_type": "code",
     "collapsed": false,
     "input": [
      "%pylab inline"
     ],
     "language": "python",
     "metadata": {},
     "outputs": [
      {
       "output_type": "stream",
       "stream": "stdout",
       "text": [
        "Populating the interactive namespace from numpy and matplotlib\n"
       ]
      }
     ],
     "prompt_number": 1
    },
    {
     "cell_type": "code",
     "collapsed": false,
     "input": [
      "from pandas import read_csv\n",
      "import glob\n",
      "#import seaborn\n",
      "from collections import defaultdict"
     ],
     "language": "python",
     "metadata": {},
     "outputs": [],
     "prompt_number": 2
    },
    {
     "cell_type": "heading",
     "level": 1,
     "metadata": {},
     "source": [
      "Comparing Evolvability with and without extinctions"
     ]
    },
    {
     "cell_type": "code",
     "collapsed": false,
     "input": [
      "treatment_d={\"cnti1\":\" Ctrl\",\"exti1\":\" Ext1\",\"exti2\":\" Ext2\",\"exti3\":\" Ext3\"}\n",
      "treatments=[]\n",
      "\n",
      "for a in treatment_d:\n",
      "    treatments.append(a)\n",
      "    \n",
      "def compile_treatment(treat):\n",
      "\n",
      "    search=\"data/%s*l1\"% treat\n",
      "    files=glob.glob(search)\n",
      "    \n",
      "    #print search,files\n",
      "    ret_data=[]\n",
      "       \n",
      "    for fn in files:\n",
      "        data=read_csv(fn,header=None,sep=' ',names=[\"gen\",\"x1\",\"x2\",\"evolvability\"])\n",
      "        #print fn,data.shape\n",
      "        ret_data.append((data[\"gen\"],data[\"evolvability\"]))\n",
      "\n",
      "    a=numpy.array(ret_data)\n",
      "    print a.shape\n",
      "    avg= a.mean(0)\n",
      "    print avg.shape\n",
      "    return avg[0,:],avg[1,:] \n",
      "\n",
      "for treat in treatments:\n",
      "    x,y=compile_treatment(treat)\n",
      "    # print x[:10]\n",
      "    #print y[:10]\n",
      "    plot(x,y,label=treat)\n",
      "legend()"
     ],
     "language": "python",
     "metadata": {},
     "outputs": [
      {
       "output_type": "stream",
       "stream": "stdout",
       "text": [
        "(20, 2, 151)\n",
        "(2, 151)\n",
        "(20, 2, 151)"
       ]
      },
      {
       "output_type": "stream",
       "stream": "stdout",
       "text": [
        "\n",
        "(2, 151)\n",
        "(20, 2, 151)"
       ]
      },
      {
       "output_type": "stream",
       "stream": "stdout",
       "text": [
        "\n",
        "(2, 151)\n",
        "(20, 2, 151)"
       ]
      },
      {
       "output_type": "stream",
       "stream": "stdout",
       "text": [
        "\n",
        "(2, 151)\n"
       ]
      },
      {
       "metadata": {},
       "output_type": "pyout",
       "prompt_number": 3,
       "text": [
        "<matplotlib.legend.Legend at 0x7fecd65e1910>"
       ]
      },
      {
       "metadata": {},
       "output_type": "display_data",
       "png": "[encoded data removed]",
       "text": [
        "<matplotlib.figure.Figure at 0x7fecf9f694d0>"
       ]
      }
     ],
     "prompt_number": 3
    },
    {
     "cell_type": "code",
     "collapsed": false,
     "input": [],
     "language": "python",
     "metadata": {},
     "outputs": [],
     "prompt_number": 9
    },
    {
     "cell_type": "code",
     "collapsed": false,
     "input": [],
     "language": "python",
     "metadata": {},
     "outputs": [],
     "prompt_number": 9
    },
    {
     "cell_type": "code",
     "collapsed": false,
     "input": [],
     "language": "python",
     "metadata": {},
     "outputs": []
    }
   ],
   "metadata": {}
  }
 ]
}